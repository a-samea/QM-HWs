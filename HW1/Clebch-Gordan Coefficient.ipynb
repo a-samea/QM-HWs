{
 "cells": [
  {
   "cell_type": "markdown",
   "metadata": {},
   "source": [
    "# Q1: Addition of Angular Momentum\n",
    "\n",
    "### In this question we will use numpy to create proper matrix representing the angular momentum operators in proper spaces and deduce Clebch-Gordan coefficients from them by diagonalizing $L_{tot}^2$"
   ]
  },
  {
   "cell_type": "code",
   "execution_count": 1,
   "metadata": {},
   "outputs": [],
   "source": [
    "import numpy as np\n",
    "from numpy import linalg as LA"
   ]
  },
  {
   "cell_type": "markdown",
   "metadata": {},
   "source": [
    "### a) by using Algebraic relation between rotation matrices, write down the matrix representation of $L^2$, $L_-$, $L_+$, $L_x$, $L_y$, $L_z$ in the basis of $|l,m\\rangle$ where $l=2$ and $l=\\frac{3}{2}$. \n",
    "Theses are the algebraic relations between rotation matrices:\n",
    "$$\n",
    "\\begin{align}\n",
    "L_+|l,m\\rangle &= \\hbar\\sqrt{l(l+1)-m(m+1)}|l,m+1\\rangle \\\\\n",
    "L_-|l,m\\rangle &= \\hbar\\sqrt{l(l+1)-m(m-1)}|l,m-1\\rangle \\\\\n",
    "L_z|l,m\\rangle &= \\hbar m|l,m\\rangle \\\\\n",
    "L^2|l,m\\rangle &= \\hbar^2l(l+1)|l,m\\rangle\n",
    "\\end{align}\n",
    "$$\n",
    "$$\n",
    "\\begin{align}\n",
    "L_x &= \\frac{1}{2}(L_+ + L_-) \\\\\n",
    "L_y &= \\frac{1}{2i}(L_+ - L_-) \\\\\n",
    "L_z &= L_z\n",
    "\\end{align}\n",
    "$$\n",
    "In the next code block we will define a function which outputs the matrix representation of angular momentum operators with given $l$. thorughout this question we will use $\\hbar=1$."
   ]
  },
  {
   "cell_type": "code",
   "execution_count": 2,
   "metadata": {},
   "outputs": [],
   "source": [
    "def AngularMomentum(l):\n",
    "    dim = int(2*l+1)\n",
    "    Jz = np.zeros((dim,dim))\n",
    "    J2 = np.zeros((dim,dim))\n",
    "    Jp = np.zeros((dim,dim))\n",
    "    Jn = np.zeros((dim,dim))\n",
    "    for i in range(dim):\n",
    "        Jz[i,i] = l-i\n",
    "        J2[i,i] = l*(l+1)\n",
    "        if i < dim-1:\n",
    "            Jp[i,i+1] = np.sqrt(l*(l+1)-(l-i-1)*(l-i))\n",
    "            Jn[i+1,i] = np.sqrt(l*(l+1)-(l-i-1)*(l-i))\n",
    "    Jx = 0.5*(Jp+Jn)\n",
    "    Jy = -0.5j*(Jp-Jn)\n",
    "    return np.array([Jx,Jy,Jz,Jp,Jn,J2,np.eye(dim)])"
   ]
  },
  {
   "cell_type": "markdown",
   "metadata": {},
   "source": [
    "This will create the matrices needed for computation of Clebch-Gordan coefficients. Now we put $l=2$ and $l=\\frac{3}{2}$ in the function and get the matrices."
   ]
  },
  {
   "cell_type": "code",
   "execution_count": 3,
   "metadata": {},
   "outputs": [],
   "source": [
    "AngularMomentums1 = AngularMomentum(2)\n",
    "AngularMomentums2 = AngularMomentum(3/2)"
   ]
  },
  {
   "cell_type": "markdown",
   "metadata": {},
   "source": [
    "### b) By using tensor product derive the matrix representation of $L^2$, $L_-$, $L_+$, $L_x$, $L_y$, $L_z$ in the basis of $|l_1,m_1\\rangle\\otimes|l_2,m_2\\rangle$ where $l_1=2$, $l_2=\\frac{3}{2}$ and $m_1=-l_1,-l_1+1,...,l_1$ and $m_2=-l_2,-l_2+1,...,l_2$.\n",
    "\n",
    "Here we calculate each operator By noting that:\n",
    "$$\n",
    "L_a = L_a^{(1)}\\otimes I^{(2)} + I^{(1)}\\otimes L_a^{(2)}\n",
    "$$"
   ]
  },
  {
   "cell_type": "code",
   "execution_count": 4,
   "metadata": {},
   "outputs": [],
   "source": [
    "\n",
    "LxTotal = np.kron(AngularMomentums1[0],AngularMomentums2[6])+np.kron(AngularMomentums1[6],AngularMomentums2[0])\n",
    "LyTotal = np.kron(AngularMomentums1[1],AngularMomentums2[6])+np.kron(AngularMomentums1[6],AngularMomentums2[1])\n",
    "LzTotal = np.kron(AngularMomentums1[2],AngularMomentums2[6])+np.kron(AngularMomentums1[6],AngularMomentums2[2])\n",
    "LpTotal = np.kron(AngularMomentums1[3],AngularMomentums2[6])+np.kron(AngularMomentums1[6],AngularMomentums2[3])\n",
    "LnTotal = np.kron(AngularMomentums1[4],AngularMomentums2[6])+np.kron(AngularMomentums1[6],AngularMomentums2[4])"
   ]
  },
  {
   "cell_type": "markdown",
   "metadata": {},
   "source": [
    "To calculate $L_{tot}^2$ we use the following formula:\n",
    "$$\n",
    "L_{tot}^2 = L_x^2+L_y^2+L_z^2\n",
    "$$"
   ]
  },
  {
   "cell_type": "code",
   "execution_count": 5,
   "metadata": {},
   "outputs": [
    {
     "name": "stderr",
     "output_type": "stream",
     "text": [
      "C:\\Users\\fox\\AppData\\Local\\Temp\\ipykernel_15656\\3988135020.py:2: ComplexWarning: Casting complex values to real discards the imaginary part\n",
      "  LtwoTotal = LtwoTotal.astype(np.float64) # to avoid complex numbers\n"
     ]
    }
   ],
   "source": [
    "LtwoTotal = LxTotal@LxTotal + LyTotal@LyTotal + LzTotal@LzTotal\n",
    "LtwoTotal = LtwoTotal.astype(np.float64) # to avoid complex numbers"
   ]
  },
  {
   "cell_type": "markdown",
   "metadata": {},
   "source": [
    "### c) Diagonalize $L_{tot}^2$ and find the Clebch-Gordan coefficients for $l_1=2$, $l_2=\\frac{3}{2}$ and $m_1=-l_1,-l_1+1,...,l_1$ and $m_2=-l_2,-l_2+1,...,l_2$.\n",
    "\n",
    "In order to do this we use linalg.eig function to find the eigenvalues and eigenvectors of $L_{tot}^2$ and then we use the eigenvectors to find the Clebch-Gordan coefficients.\n",
    "The Clebch-Gordan coefficients are the coefficients of the eigenvectors in the basis of $|l_1,m_1\\rangle\\otimes|l_2,m_2\\rangle$. i.e. if we have an eigenvector $|l_1,l_2,m_1+m_2,l\\rangle$ of $L_{tot}^2$ then the Clebch-Gordan coefficients are the coefficients of $|l_1,l_2,m_1+m_2,l\\rangle$ in the basis of $|l_1,m_1\\rangle\\otimes|l_2,m_2\\rangle$."
   ]
  },
  {
   "cell_type": "code",
   "execution_count": 6,
   "metadata": {},
   "outputs": [],
   "source": [
    "Eigenvalues, Eigenvectors = LA.eig(LtwoTotal)\n"
   ]
  },
  {
   "cell_type": "code",
   "execution_count": 7,
   "metadata": {},
   "outputs": [
    {
     "data": {
      "text/plain": [
       "array([ 8.75, 15.75, 15.75,  8.75,  3.75, 15.75,  0.75,  8.75,  3.75,\n",
       "       15.75,  8.75,  3.75,  0.75, 15.75,  8.75,  3.75, 15.75,  8.75,\n",
       "       15.75, 15.75])"
      ]
     },
     "execution_count": 7,
     "metadata": {},
     "output_type": "execute_result"
    }
   ],
   "source": [
    "Eigenvalues"
   ]
  },
  {
   "cell_type": "markdown",
   "metadata": {},
   "source": [
    "## Clebch-Gordan Coefficients:\n",
    "$$\n",
    "|l,m,l_1,l_2\\rangle = \\sum_{m_1,m_2}C_{l_1,l_2,m_1,m_2}^{l,m}|l_1,m_1\\rangle\\otimes|l_2,m_2\\rangle\n",
    "$$\n",
    "where $C_{l_1,l_2,m_1,m_2}^{l,m_1+m_2}$ are the Clebch-Gordan coefficients.\n",
    "$$\n",
    "C_{l_1,l_2,m_1,m_2}^{l,m} = \\langle l_1,l_2,m_1,m_2|l,m,l_1,l_2\\rangle\n",
    "$$\n",
    "we will calculate the Clebch-Gordan coefficients by using the eigenvectors of $L_{tot}^2$ as follows:\n",
    "we first calculate the tensor product for the basis of $|l_1,m_1\\rangle\\otimes|l_2,m_2\\rangle$ and then we calculate the inner product of the eigenvectors with the basis vectors. the result will be the Clebch-Gordan coefficients."
   ]
  },
  {
   "cell_type": "markdown",
   "metadata": {},
   "source": [
    "# Q2: Clebch-Gordan Coefficients\n",
    "If we use the latter operators on the basis of $|l,m,l_1,l_2\\rangle$ we will get the following results:\n",
    "$$\n",
    "\\begin{align*}\n",
    "& L_\\pm |l,m,l_1,l_2\\rangle  = \\hbar\\sqrt{l(l+1)-m(m\\pm1)}|l,m\\pm1,l_1,l_2\\rangle = L_\\pm \\sum_{m_1,m_2}C_{l_1,l_2,m_1,m_2}^{l,m_1+m_2}|l_1,m_1\\rangle\\otimes|l_2,m_2\\rangle \\\\\n",
    "\\Rightarrow & \\sqrt{l(l+1)-m(m\\pm1)} C_{l_1,l_2,m_1,m_2}^{l,m\\pm1} = \\sqrt{l_1(l_1+1)-m_1(m_1\\pm1)} C_{l_1,l_2,m_1\\mp 1,m_2}^{l,m} + \\sqrt{l_2(l_2+1)-m_2(m_2\\pm1)} C_{l_1,l_2,m_1,m_2\\mp 1}^{l,m} \\\\\n",
    "& \\boxed{C_{l_1,l_2,m_1,m_2}^{l,m} = \\frac{\\sqrt{(l_1\\pm m_1)(l_1 \\mp m_1+1)}C_{l_1,l_2,m_1\\mp 1,m_2}^{l,m\\mp 1}+\\sqrt{(l_2\\pm m_2)(l_2 \\mp m_2+1)}C_{l_1,l_2,m_1,m_2\\mp 1}^{l,m\\mp 1}}{\\sqrt{(l\\mp m+1)(l\\pm m)}}}\n",
    "\\end{align*}\n",
    "$$\n",
    "Where if put $m = l$ we will get some boundary conditions. this relation automatically gives zero when the parameters are not allowed.\n",
    "for $l_1 = 2$ and $l_2 = 3/2$ we would have the following criteria:\n",
    "$$\n",
    "\\frac{1}{2} \\le l \\le \\frac{7}{2} \\Rightarrow l = 1/2, 3/2, 5/2, 7/2\n",
    "$$\n",
    "$$\n",
    "\\begin{align*}\n",
    "& l=1/2 \\Rightarrow m = -1/2, 1/2  \\\\\n",
    "& l=3/2 \\Rightarrow m = -3/2, -1/2, 1/2, 3/2 \\\\\n",
    "& l=5/2 \\Rightarrow m = -5/2, -3/2, -1/2, 1/2, 3/2, 5/2 \\\\\n",
    "& l=7/2 \\Rightarrow m = -7/2, -5/2, -3/2, -1/2, 1/2, 3/2, 5/2, 7/2 \\\\\n",
    "\\end{align*}\n",
    "$$"
   ]
  },
  {
   "cell_type": "markdown",
   "metadata": {},
   "source": [
    "To implement this we will use the following function:"
   ]
  },
  {
   "cell_type": "code",
   "execution_count": 8,
   "metadata": {},
   "outputs": [],
   "source": [
    "l1, l2 = 2, 3/2\n",
    "lspace = np.arange(np.abs(l1-l2),l1+l2+1)\n",
    "mspace = [np.arange(-l,l+1,1) for l in lspace]\n",
    "m1space = np.arange(-l1,l1+1,1)\n",
    "m2space = np.arange(-l2,l2+1,1)"
   ]
  },
  {
   "cell_type": "code",
   "execution_count": 9,
   "metadata": {},
   "outputs": [],
   "source": [
    "# write a function that calculates the clebch-gordan coefficients for a given l1,l2,m1,m2,l,m using the latter box numbers do not use ready to use functions. implement it via the reccursion formula\n",
    "def ClebchGordan(l1,l2,m1,m2,l,m):\n",
    "    if l1 < 0 or l2 < 0 or m1 < -l1 or m1 > l1 or m2 < -l2 or m2 > l2 or l < np.abs(l1-l2) or l > l1+l2 or m < -l or m > l:\n",
    "        return 0\n",
    "    if m1+m2 != m:\n",
    "        return 0\n",
    "    if l1 == 0 and l2 == 0 and l == 0:\n",
    "        return 1\n",
    "    if l1 == 0 and l2 == 0 and l != 0:\n",
    "        return 0\n",
    "    if l1 == 0 and l2 != 0:\n",
    "        return 1\n",
    "    if l1 != 0 and l2 == 0:\n",
    "        return 1\n",
    "    if l1 == m1 and l2 == m2 and l == m:\n",
    "        return 1\n",
    "    if l1 == -m1 and l2 == -m2 and l == -m:\n",
    "        return 1\n",
    "    if l1 != 0 and l2 != 0:\n",
    "        return ((np.sqrt((l1+m1)*(l1-m1+1)))*ClebchGordan(l1,l2,m1-1,m2,l,m-1)+(np.sqrt((l2+m2)*(l2-m2+1)))*ClebchGordan(l1,l2,m1,m2-1,l,m-1))/np.sqrt((l-m+1)*(l+m))\n",
    "\n"
   ]
  },
  {
   "cell_type": "markdown",
   "metadata": {},
   "source": [
    "### This function exatly calculates the Clebch-Gordan Coefficient as done in Q1"
   ]
  }
 ],
 "metadata": {
  "kernelspec": {
   "display_name": "Python 3 (ipykernel)",
   "language": "python",
   "name": "python3"
  },
  "language_info": {
   "codemirror_mode": {
    "name": "ipython",
    "version": 3
   },
   "file_extension": ".py",
   "mimetype": "text/x-python",
   "name": "python",
   "nbconvert_exporter": "python",
   "pygments_lexer": "ipython3",
   "version": "3.11.5"
  }
 },
 "nbformat": 4,
 "nbformat_minor": 4
}
