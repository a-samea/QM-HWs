{
 "cells": [
  {
   "cell_type": "markdown",
   "metadata": {},
   "source": [
    "# Q4: Heisenberg's Chain\n",
    "## We have a system of N spin-1/2 particles, which are coupled by the Heisenberg Hamiltonian given below. (J=1)\n",
    "### $$H = \\vec{S}_N \\cdot \\vec{S}_{1} + \\sum_{i=1}^{N-1} \\vec{S}_i \\cdot \\vec{S}_{i+1}$$ "
   ]
  },
  {
   "cell_type": "markdown",
   "metadata": {},
   "source": [
    "a) Find the ground state energy of the system for N=3. Describe its degeneracy. (Hint: Use the fact that the Hamiltonian is invariant under some symmetry operations.)"
   ]
  },
  {
   "cell_type": "markdown",
   "metadata": {},
   "source": [
    "I couldn't do it. it is very hard!"
   ]
  }
 ],
 "metadata": {
  "language_info": {
   "name": "python"
  }
 },
 "nbformat": 4,
 "nbformat_minor": 2
}
