{
 "cells": [
  {
   "cell_type": "markdown",
   "metadata": {},
   "source": [
    "# Q1: Addition of Angular Momentum\n",
    "\n",
    "### In this question we will use numpy to create proper matrix representing the angular momentum operators in proper spaces and deduce Clebch-Gordan coefficients from them by diagonalizing $L_{tot}^2$"
   ]
  },
  {
   "cell_type": "code",
   "execution_count": 1,
   "metadata": {},
   "outputs": [],
   "source": [
    "import numpy as np\n",
    "from numpy import linalg as LA"
   ]
  },
  {
   "cell_type": "markdown",
   "metadata": {},
   "source": [
    "### a) by using Algebraic relation between rotation matrices, write down the matrix representation of $L^2$, $L_-$, $L_+$, $L_x$, $L_y$, $L_z$ in the basis of $|l,m\\rangle$ where $l=2$ and $l=\\frac{3}{2}$. \n",
    "Theses are the algebraic relations between rotation matrices:\n",
    "$$\n",
    "\\begin{align}\n",
    "L_+|l,m\\rangle &= \\hbar\\sqrt{l(l+1)-m(m+1)}|l,m+1\\rangle \\\\\n",
    "L_-|l,m\\rangle &= \\hbar\\sqrt{l(l+1)-m(m-1)}|l,m-1\\rangle \\\\\n",
    "L_z|l,m\\rangle &= \\hbar m|l,m\\rangle \\\\\n",
    "L^2|l,m\\rangle &= \\hbar^2l(l+1)|l,m\\rangle\n",
    "\\end{align}\n",
    "$$\n",
    "$$\n",
    "\\begin{align}\n",
    "L_x &= \\frac{1}{2}(L_+ + L_-) \\\\\n",
    "L_y &= \\frac{1}{2i}(L_+ - L_-) \\\\\n",
    "L_z &= L_z\n",
    "\\end{align}\n",
    "$$\n",
    "In the next code block we will define a function which outputs the matrix representation of angular momentum operators with given $l$. thorughout this question we will use $\\hbar=1$."
   ]
  },
  {
   "cell_type": "code",
   "execution_count": 40,
   "metadata": {},
   "outputs": [],
   "source": [
    "def AngularMomentum(l):\n",
    "    dim = int(2*l+1)\n",
    "    Jz = np.zeros((dim,dim))\n",
    "    J2 = np.zeros((dim,dim))\n",
    "    Jp = np.zeros((dim,dim))\n",
    "    Jn = np.zeros((dim,dim))\n",
    "    for i in range(dim):\n",
    "        Jz[i,i] = l-i\n",
    "        J2[i,i] = l*(l+1)\n",
    "        if i < dim-1:\n",
    "            Jp[i,i+1] = np.sqrt(l*(l+1)-(l-i-1)*(l-i))\n",
    "            Jn[i+1,i] = np.sqrt(l*(l+1)-(l-i-1)*(l-i))\n",
    "    Jx = 0.5*(Jp+Jn)\n",
    "    Jy = -0.5j*(Jp-Jn)\n",
    "    return np.array([Jx,Jy,Jz,Jp,Jn,J2,np.eye(dim)])"
   ]
  },
  {
   "cell_type": "markdown",
   "metadata": {},
   "source": [
    "This will create the matrices needed for computation of Clebch-Gordan coefficients. Now we put $l=2$ and $l=\\frac{3}{2}$ in the function and get the matrices."
   ]
  },
  {
   "cell_type": "code",
   "execution_count": 69,
   "metadata": {},
   "outputs": [],
   "source": [
    "AngularMomentums1 = AngularMomentum(1/2)\n",
    "AngularMomentums2 = AngularMomentum(1/2)"
   ]
  },
  {
   "cell_type": "markdown",
   "metadata": {},
   "source": [
    "### b) By using tensor product derive the matrix representation of $L^2$, $L_-$, $L_+$, $L_x$, $L_y$, $L_z$ in the basis of $|l_1,m_1\\rangle\\otimes|l_2,m_2\\rangle$ where $l_1=2$, $l_2=\\frac{3}{2}$ and $m_1=-l_1,-l_1+1,...,l_1$ and $m_2=-l_2,-l_2+1,...,l_2$.\n",
    "\n",
    "Here we calculate each operator By noting that:\n",
    "$$\n",
    "L_a = L_a^{(1)}\\otimes I^{(2)} + I^{(1)}\\otimes L_a^{(2)}\n",
    "$$"
   ]
  },
  {
   "cell_type": "code",
   "execution_count": 70,
   "metadata": {},
   "outputs": [],
   "source": [
    "\n",
    "LxTotal = np.kron(AngularMomentums1[0],AngularMomentums2[6])+np.kron(AngularMomentums1[6],AngularMomentums2[0])\n",
    "LyTotal = np.kron(AngularMomentums1[1],AngularMomentums2[6])+np.kron(AngularMomentums1[6],AngularMomentums2[1])\n",
    "LzTotal = np.kron(AngularMomentums1[2],AngularMomentums2[6])+np.kron(AngularMomentums1[6],AngularMomentums2[2])\n",
    "LpTotal = np.kron(AngularMomentums1[3],AngularMomentums2[6])+np.kron(AngularMomentums1[6],AngularMomentums2[3])\n",
    "LnTotal = np.kron(AngularMomentums1[4],AngularMomentums2[6])+np.kron(AngularMomentums1[6],AngularMomentums2[4])"
   ]
  },
  {
   "cell_type": "markdown",
   "metadata": {},
   "source": [
    "To calculate $L_{tot}^2$ we use the following formula:\n",
    "$$\n",
    "L_{tot}^2 = L_x^2+L_y^2+L_z^2\n",
    "$$"
   ]
  },
  {
   "cell_type": "code",
   "execution_count": 71,
   "metadata": {},
   "outputs": [
    {
     "name": "stderr",
     "output_type": "stream",
     "text": [
      "C:\\Users\\fox\\AppData\\Local\\Temp\\ipykernel_9404\\3427952435.py:2: ComplexWarning: Casting complex values to real discards the imaginary part\n",
      "  LtwoTotal = LtwoTotal.astype(np.float64) # to avoid complex numbers\n"
     ]
    },
    {
     "data": {
      "text/plain": [
       "array([[2., 0., 0., 0.],\n",
       "       [0., 1., 1., 0.],\n",
       "       [0., 1., 1., 0.],\n",
       "       [0., 0., 0., 2.]])"
      ]
     },
     "execution_count": 71,
     "metadata": {},
     "output_type": "execute_result"
    }
   ],
   "source": [
    "LtwoTotal = LxTotal@LxTotal + LyTotal@LyTotal + LzTotal@LzTotal\n",
    "LtwoTotal = LtwoTotal.astype(np.float64) # to avoid complex numbers\n",
    "LtwoTotal"
   ]
  },
  {
   "cell_type": "markdown",
   "metadata": {},
   "source": [
    "### c) Diagonalize $L_{tot}^2$ and find the Clebch-Gordan coefficients for $l_1=2$, $l_2=\\frac{3}{2}$ and $m_1=-l_1,-l_1+1,...,l_1$ and $m_2=-l_2,-l_2+1,...,l_2$.\n",
    "\n",
    "In order to do this we use linalg.eig function to find the eigenvalues and eigenvectors of $L_{tot}^2$ and then we use the eigenvectors to find the Clebch-Gordan coefficients.\n",
    "The Clebch-Gordan coefficients are the coefficients of the eigenvectors in the basis of $|l_1,m_1\\rangle\\otimes|l_2,m_2\\rangle$. i.e. if we have an eigenvector $|l_1,l_2,m_1+m_2,l\\rangle$ of $L_{tot}^2$ then the Clebch-Gordan coefficients are the coefficients of $|l_1,l_2,m_1+m_2,l\\rangle$ in the basis of $|l_1,m_1\\rangle\\otimes|l_2,m_2\\rangle$."
   ]
  },
  {
   "cell_type": "code",
   "execution_count": 72,
   "metadata": {},
   "outputs": [],
   "source": [
    "Eigenvalues, Eigenvectors = LA.eig(LtwoTotal)\n"
   ]
  },
  {
   "cell_type": "code",
   "execution_count": 96,
   "metadata": {},
   "outputs": [
    {
     "data": {
      "text/plain": [
       "array([2., 0., 2., 2.])"
      ]
     },
     "execution_count": 96,
     "metadata": {},
     "output_type": "execute_result"
    }
   ],
   "source": [
    "Eigenvalues"
   ]
  },
  {
   "cell_type": "code",
   "execution_count": 97,
   "metadata": {},
   "outputs": [
    {
     "data": {
      "text/plain": [
       "array([[ 0.        ,  0.        ,  1.        ,  0.        ],\n",
       "       [ 0.70710678,  0.70710678,  0.        ,  0.        ],\n",
       "       [ 0.70710678, -0.70710678,  0.        ,  0.        ],\n",
       "       [ 0.        ,  0.        ,  0.        ,  1.        ]])"
      ]
     },
     "execution_count": 97,
     "metadata": {},
     "output_type": "execute_result"
    }
   ],
   "source": [
    "Eigenvectors"
   ]
  },
  {
   "cell_type": "markdown",
   "metadata": {},
   "source": [
    "## Clebch-Gordan Coefficients:\n",
    "$$\n",
    "|l_1,l_2,m_1+m_2,l\\rangle = \\sum_{m_1,m_2}C_{l_1,l_2,m_1,m_2}^{l,m_1+m_2}|l_1,m_1\\rangle\\otimes|l_2,m_2\\rangle\n",
    "$$\n",
    "where $C_{l_1,l_2,m_1,m_2}^{l,m_1+m_2}$ are the Clebch-Gordan coefficients.\n",
    "$$\n",
    "C_{l_1,l_2,m_1,m_2}^{l,m_1+m_2} = \\langle l_1,l_2,m_1,m_2|l_1,l_2,m_1+m_2,l\\rangle\n",
    "$$\n",
    "we will calculate the Clebch-Gordan coefficients by using the eigenvectors of $L_{tot}^2$ as follows:"
   ]
  },
  {
   "cell_type": "code",
   "execution_count": 95,
   "metadata": {},
   "outputs": [
    {
     "name": "stdout",
     "output_type": "stream",
     "text": [
      "[[1]]\n",
      "[[0]\n",
      " [2]\n",
      " [3]]\n"
     ]
    }
   ],
   "source": [
    "def CG(m1,m2,l): # Clebsch-Gordan coefficients (m1,m2,l)\n",
    "    l1 = float(AngularMomentums1[2,0,0].real)\n",
    "    l2 = float(AngularMomentums2[2,0,0].real)\n",
    "    rangeL = int(l1+l2-abs(l1-l2)+1)\n",
    "    Coefficients = np.zeros((int(2*l1+1),int(2*l2+1),rangeL))\n",
    "    States = \n",
    "    for i in range(rangeL):\n",
    "        indexes = np.argwhere(Eigenvalues==(i*(i+1)))\n",
    "\n",
    "\n",
    "    indexes = np.argwhere(Eigenvalues==(i*(i+1)))\n",
    "    productState = np.kron()\n",
    "    print(indexes)"
   ]
  },
  {
   "cell_type": "code",
   "execution_count": null,
   "metadata": {},
   "outputs": [],
   "source": [
    "def ClebchGordan(l1,l2,m1,m2,l):\n",
    "    dim1 = int(2*l1+1)\n",
    "    dim2 = int(2*l2+1)\n",
    "    dim = int(2*l+1)\n",
    "    CG = np.zeros((dim1,dim2,dim))\n",
    "    for i in range(dim1):\n",
    "        for j in range(dim2):\n",
    "            for k in range(dim):\n",
    "                if m1+l1-i == m2+l2-j and m1+l1-i == l-k and m1+l1-i >= 0 and m2+l2-j >= 0 and l-k >= 0:\n",
    "                    CG[i,j,k] = np.sqrt((2*l1+1)*(2*l2+1)*(2*l+1)/(4*np.pi))*LA.multi_dot([[AngularMomentum(l1)[6][i,i],AngularMomentum(l2)[6][j,j],AngularMomentum(l)[6][k,k]],[AngularMomentum(l1)[6],AngularMomentum(l2)[6],AngularMomentum(l)[6]]])\n",
    "    return CG"
   ]
  },
  {
   "cell_type": "code",
   "execution_count": 64,
   "metadata": {},
   "outputs": [
    {
     "data": {
      "text/plain": [
       "array([2., 0., 2., 2.])"
      ]
     },
     "execution_count": 64,
     "metadata": {},
     "output_type": "execute_result"
    }
   ],
   "source": [
    "Eigenvalues"
   ]
  },
  {
   "cell_type": "code",
   "execution_count": 65,
   "metadata": {},
   "outputs": [
    {
     "data": {
      "text/plain": [
       "array([[ 0.        ,  0.        ,  1.        ,  0.        ],\n",
       "       [ 0.70710678,  0.70710678,  0.        ,  0.        ],\n",
       "       [ 0.70710678, -0.70710678,  0.        ,  0.        ],\n",
       "       [ 0.        ,  0.        ,  0.        ,  1.        ]])"
      ]
     },
     "execution_count": 65,
     "metadata": {},
     "output_type": "execute_result"
    }
   ],
   "source": [
    "Eigenvectors"
   ]
  },
  {
   "cell_type": "code",
   "execution_count": null,
   "metadata": {},
   "outputs": [],
   "source": []
  }
 ],
 "metadata": {
  "kernelspec": {
   "display_name": "Python 3",
   "language": "python",
   "name": "python3"
  },
  "language_info": {
   "codemirror_mode": {
    "name": "ipython",
    "version": 3
   },
   "file_extension": ".py",
   "mimetype": "text/x-python",
   "name": "python",
   "nbconvert_exporter": "python",
   "pygments_lexer": "ipython3",
   "version": "3.11.5"
  }
 },
 "nbformat": 4,
 "nbformat_minor": 2
}
