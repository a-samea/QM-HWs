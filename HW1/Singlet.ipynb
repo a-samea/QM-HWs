{
 "cells": [
  {
   "cell_type": "markdown",
   "metadata": {},
   "source": [
    "# Q3: Singlet and triplet states in different frame\n"
   ]
  },
  {
   "cell_type": "markdown",
   "metadata": {},
   "source": [
    "a) We have the following resolotion of the identity for the $\\hat{x}$.\n",
    "$$\n",
    "\\mathbb{I} = |+x\\rangle\\langle +x| + |-x\\rangle\\langle -x| \\Rightarrow |+z\\rangle = \\frac{1}{\\sqrt{2}}\\left(|+x\\rangle + |-x\\rangle\\right) , \\quad |-z\\rangle = \\frac{1}{\\sqrt{2}}\\left(|+x\\rangle - |-x\\rangle\\right)\n",
    "$$\n",
    "Then the singlet state can be written as:\n",
    "$$\n",
    "\\begin{align*}\n",
    "|\\text{singlet}\\rangle & = \\frac{1}{\\sqrt{2}}\\left(|+z\\rangle_A|-z\\rangle_B - |-z\\rangle_A|+z\\rangle_B\\right) \\\\\n",
    "& = \\frac{1}{\\sqrt{2}}(\\frac{1}{2}\\left(-|+x\\rangle_A|-x\\rangle_B + |-x\\rangle_A|+x\\rangle_B + |+x\\rangle_A|+x\\rangle_B - |-x\\rangle_A|-x\\rangle_B\\right) \\\\\n",
    "& - \\frac{1}{2}\\left(+|+x\\rangle_A|-x\\rangle_B - |-x\\rangle_A|+x\\rangle_B + |+x\\rangle_A|+x\\rangle_B - |-x\\rangle_A|-x\\rangle_B\\right)) \\\\\n",
    "& = \\boxed{\\frac{1}{\\sqrt{2}}(|+x\\rangle_A|-x\\rangle_B - |-x\\rangle_A|+x\\rangle_B)}\n",
    "\\end{align*}\n",
    "$$\n",
    "And the triplet states can be written as:\n",
    "$$\n",
    "\\begin{align*}\n",
    "|\\text{triplet}_1\\rangle & = \\frac{1}{\\sqrt{2}}\\left(|+z\\rangle_A|-z\\rangle_B + |-z\\rangle_A|+z\\rangle_B\\right) \\\\\n",
    "& = \\frac{1}{\\sqrt{2}}(\\frac{1}{2}\\left(-|+x\\rangle_A|-x\\rangle_B + |-x\\rangle_A|+x\\rangle_B + |+x\\rangle_A|+x\\rangle_B - |-x\\rangle_A|-x\\rangle_B\\right) \\\\\n",
    "& + \\frac{1}{2}\\left(+|+x\\rangle_A|-x\\rangle_B - |-x\\rangle_A|+x\\rangle_B + |+x\\rangle_A|+x\\rangle_B - |-x\\rangle_A|-x\\rangle_B\\right)) \\\\\n",
    "& = \\boxed{\\frac{1}{\\sqrt{2}}(|+x\\rangle_A|+x\\rangle_B - |-x\\rangle_A|-x\\rangle_B)}\n",
    "\\end{align*}\n",
    "$$\n",
    "$$\n",
    "\\begin{align*}\n",
    "|\\text{triplet}_2\\rangle & = |+z\\rangle_A|+z\\rangle_B \\\\\n",
    "& = \\frac{1}{2}(|+x\\rangle_A|+x\\rangle_B+|+x\\rangle_A|-x\\rangle_B+|-x\\rangle_A|+x\\rangle_B+|-x\\rangle_A|-x\\rangle_B) \\\\\n",
    "\\end{align*}\n",
    "$$\n",
    "$$\n",
    "\\begin{align*}\n",
    "|\\text{triplet}_3\\rangle & = |-z\\rangle_A|-z\\rangle_B \\\\\n",
    "& =     \\frac{1}{2}(|+x\\rangle_A|+x\\rangle_B-|+x\\rangle_A|-x\\rangle_B-|-x\\rangle_A|+x\\rangle_B+|-x\\rangle_A|-x\\rangle_B) \\\\\n",
    "\\end{align*}\n",
    "$$\n",
    "\n",
    "As we can see, the triplet states will be different and will not be the eigenvectors of $S^2$ anymore. But the singlet state always will be an eigenvalue"
   ]
  },
  {
   "cell_type": "markdown",
   "metadata": {},
   "source": [
    "b) Considering a general direction the Sigma Operator can be written as:\n",
    "$$\n",
    "\\begin{align*}\n",
    "\\hat{\\sigma}(\\theta,\\phi) = \\sin(\\theta)\\cos(\\phi)\\hat{\\sigma}_x + \\sin(\\theta)\\sin(\\phi)\\hat{\\sigma}_y + \\cos(\\theta)\\hat{\\sigma}_z\n",
    "\\end{align*}    \n",
    "$$\n",
    "Eigenvectors of $\\hat{\\sigma}(\\theta,\\phi)$ are:\n",
    "$$\n",
    "\\begin{align*}\n",
    "|+n\\rangle & = \\cos(\\frac{\\theta}{2})|+z\\rangle + e^{i\\phi}\\sin(\\frac{\\theta}{2})|-z\\rangle \\\\\n",
    "|-n\\rangle & = e^{-i\\phi}\\sin(\\frac{\\theta}{2})|+z\\rangle - \\cos(\\frac{\\theta}{2})|-z\\rangle\n",
    "\\end{align*}\n",
    "$$\n",
    "So the inverse transformation is:\n",
    "$$\n",
    "\\begin{align*}\n",
    "|+z\\rangle & = \\cos(\\frac{\\theta}{2})|+n\\rangle + e^{-i\\phi}\\sin(\\frac{\\theta}{2})|-n\\rangle \\\\\n",
    "|-z\\rangle & = e^{i\\phi}\\sin(\\frac{\\theta}{2})|+n\\rangle - \\cos(\\frac{\\theta}{2})|-n\\rangle\n",
    "\\end{align*}\n",
    "$$\n",
    "Then the singlet state can be written as:\n",
    "$$\n",
    "\\begin{align*}\n",
    "|\\text{singlet}\\rangle & = \\frac{1}{\\sqrt{2}}\\left(|+z\\rangle_A|-z\\rangle_B - |-z\\rangle_A|+z\\rangle_B\\right) \\\\\n",
    "& = \\boxed{\\frac{e^{i\\phi}}{\\sqrt{2}}(|+n\\rangle_A|-n\\rangle_B - |-n\\rangle_A|+n\\rangle_B)}\n",
    "\\end{align*}\n",
    "$$\n"
   ]
  },
  {
   "cell_type": "markdown",
   "metadata": {},
   "source": [
    "c) Reduced density matrix for the singlet state is: ($\\rho_A = \\rho_B$)\n",
    "$$\n",
    "\\begin{align*}\n",
    "\\rho_A & = \\text{Tr}_B(|\\text{singlet}\\rangle\\langle\\text{singlet}|) \\\\\n",
    "& = \\frac{1}{2}\\left(|+z\\rangle\\langle +z| + |-z\\rangle\\langle -z|\\right) \\\\\n",
    "& = \\boxed{\\frac{1}{2}\\left(|+n\\rangle\\langle +n| + |-n\\rangle\\langle -n|\\right)}\n",
    "\\end{align*}\n",
    "$$\n",
    "And the entropy is calculated as follows: (log is simply taken because the density matrix is diagonal)\n",
    "$$\n",
    "\\begin{align*}\n",
    "\\log(\\rho_A) & = \\log(\\frac{1}{2}\\left(|+n\\rangle\\langle +n| + |-n\\rangle\\langle -n|\\right)) = -\\ln2\\left(|+n\\rangle\\langle +n| + |-n\\rangle\\langle -n|\\right)\\\\\n",
    "\\rho_A \\log(\\rho_A) & = -\\frac{\\ln2}{2}\\left(|+n\\rangle\\langle +n| + |-n\\rangle\\langle -n|\\right) \\\\\n",
    "S & = -\\mathrm{tr}(\\rho_A\\log(\\rho_A)) = \\boxed{\\ln2}\n",
    "\\end{align*}\n",
    "$$"
   ]
  },
  {
   "cell_type": "markdown",
   "metadata": {},
   "source": [
    "This state will always be maximally entangled because the reduced density matrix is always the same and the entropy is always $\\ln2$."
   ]
  }
 ],
 "metadata": {
  "language_info": {
   "name": "python"
  }
 },
 "nbformat": 4,
 "nbformat_minor": 2
}
